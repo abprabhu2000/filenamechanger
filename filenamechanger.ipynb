{
 "cells": [
  {
   "cell_type": "code",
   "execution_count": 1,
   "id": "6979b61f",
   "metadata": {},
   "outputs": [],
   "source": [
    "import os\n",
    "import shutil"
   ]
  },
  {
   "cell_type": "code",
   "execution_count": 64,
   "id": "4471f0cb",
   "metadata": {},
   "outputs": [],
   "source": [
    "osl = os.listdir() "
   ]
  },
  {
   "cell_type": "code",
   "execution_count": 65,
   "id": "c2bb90a0",
   "metadata": {},
   "outputs": [
    {
     "data": {
      "text/plain": [
       "'F:\\\\Sachin_040622\\\\preprocessed\\\\data'"
      ]
     },
     "execution_count": 65,
     "metadata": {},
     "output_type": "execute_result"
    }
   ],
   "source": [
    "os.getcwd()"
   ]
  },
  {
   "cell_type": "code",
   "execution_count": 66,
   "id": "e0b78730",
   "metadata": {},
   "outputs": [
    {
     "data": {
      "text/plain": [
       "['.ipynb_checkpoints',\n",
       " 'sub_BPD0068A',\n",
       " 'sub_BPD0068B',\n",
       " 'sub_BPD0070A',\n",
       " 'sub_BPD0070B',\n",
       " 'sub_BPD0071A',\n",
       " 'sub_BPD0071B',\n",
       " 'sub_BPD0072A',\n",
       " 'sub_BPD0072B',\n",
       " 'sub_BPD0073A',\n",
       " 'sub_BPD0073B',\n",
       " 'sub_BPD0075A',\n",
       " 'sub_BPD0075B',\n",
       " 'sub_BPD0079A',\n",
       " 'sub_BPD0079B',\n",
       " 'sub_BPD0086A',\n",
       " 'sub_BPD0086B',\n",
       " 'sub_BPD0088A',\n",
       " 'sub_BPD0088B',\n",
       " 'sub_BPD0089A',\n",
       " 'sub_BPD0089B',\n",
       " 'sub_BPD0090A',\n",
       " 'sub_BPD0090B',\n",
       " 'sub_BPD0091A',\n",
       " 'sub_BPD0091B',\n",
       " 'sub_BPD0092A',\n",
       " 'sub_BPD0092B',\n",
       " 'sub_BPD0094A',\n",
       " 'sub_BPD0094B',\n",
       " 'sub_BPD0096A',\n",
       " 'sub_BPD0096B',\n",
       " 'sub_BPD0097A',\n",
       " 'sub_BPD0097B',\n",
       " 'sub_BPD0098A',\n",
       " 'sub_BPD0098B',\n",
       " 'sub_BPD0099A',\n",
       " 'sub_BPD0099B',\n",
       " 'sub_BPD0101A',\n",
       " 'sub_BPD0101B',\n",
       " 'sub_BPD0102A',\n",
       " 'sub_BPD0102B',\n",
       " 'sub_BPD0103A',\n",
       " 'sub_BPD0103B',\n",
       " 'sub_BPD0104B',\n",
       " 'sub_BPD0105A',\n",
       " 'sub_BPD0105B',\n",
       " 'sub_BPD0107A',\n",
       " 'sub_BPD0109A',\n",
       " 'sub_BPD0109B',\n",
       " 'Untitled.ipynb']"
      ]
     },
     "execution_count": 66,
     "metadata": {},
     "output_type": "execute_result"
    }
   ],
   "source": [
    "osl"
   ]
  },
  {
   "cell_type": "markdown",
   "id": "5803e663",
   "metadata": {},
   "source": [
    "*parent folder rename*"
   ]
  },
  {
   "cell_type": "markdown",
   "id": "7b0aa293",
   "metadata": {},
   "source": [
    "for i in osl:\n",
    "    if i.find('ipynb') != -1:\n",
    "        pass\n",
    "    else:\n",
    "        inew = i.replace(\"-\",\"_\")\n",
    "        print(i,inew)\n",
    "        os.rename(os.path.join(str(os.getcwd()),i),os.path.join(str(os.getcwd()),inew))\n",
    "        print(os.path.join(str(os.getcwd()),i),os.path.join(str(os.getcwd()),inew))"
   ]
  },
  {
   "cell_type": "markdown",
   "id": "9acdaa35",
   "metadata": {},
   "source": [
    "*1st sub folder rename*"
   ]
  },
  {
   "cell_type": "markdown",
   "id": "d3c8fc9e",
   "metadata": {},
   "source": [
    "for i in osl:\n",
    "    if i.find('ipynb') != -1:\n",
    "        pass\n",
    "    else:\n",
    "        antdir = os.path.join(str(os.getcwd()),i)\n",
    "        #print(os.listdir(antdir))\n",
    "        for j in os.listdir(antdir):\n",
    "            os.rename(os.path.join(antdir,j),os.path.join(antdir,'ses_01'))\n",
    "            print(os.path.join(antdir,j),os.path.join(antdir,'ses_01'))"
   ]
  },
  {
   "cell_type": "markdown",
   "id": "7dc41cae",
   "metadata": {},
   "source": [
    "*file rename --> T1w*"
   ]
  },
  {
   "cell_type": "markdown",
   "id": "32040652",
   "metadata": {},
   "source": [
    "for i in osl:\n",
    "    if i.find('ipynb') != -1:\n",
    "        pass\n",
    "    else:\n",
    "        antdir = os.path.join(str(os.getcwd()),i,'ses_01','anat')\n",
    "        funcdir = os.path.join(str(os.getcwd()),i,'ses_01','func')\n",
    "        #print(os.listdir(antdir))\n",
    "        #print(os.listdir(funcdir))\n",
    "        for j in os.listdir(antdir):\n",
    "            if (j.split('_')[0] == i) & (j.find('T1w.nii') != -1):\n",
    "                #print(j)\n",
    "                jnew = j.replace('-','_')\n",
    "                print(jnew)\n",
    "                os.rename(os.path.join(antdir,j),os.path.join(antdir,jnew))\n",
    "                print(os.path.join(antdir,j),os.path.join(antdir,jnew))\n",
    "            else:\n",
    "                pass"
   ]
  },
  {
   "cell_type": "markdown",
   "id": "0fbe76c3",
   "metadata": {},
   "source": [
    "*file rename --> T1w.mat*"
   ]
  },
  {
   "cell_type": "markdown",
   "id": "c73c841b",
   "metadata": {},
   "source": [
    "for i in osl:\n",
    "    if i.find('ipynb') != -1:\n",
    "        pass\n",
    "    else:\n",
    "        antdir = os.path.join(str(os.getcwd()),i,'ses_01','anat')\n",
    "        funcdir = os.path.join(str(os.getcwd()),i,'ses_01','func')\n",
    "        #print(os.listdir(antdir))\n",
    "        #print(os.listdir(funcdir))\n",
    "        for j in os.listdir(antdir):\n",
    "            if (j.split('_')[0] == i) & (j.find('T1w_reorient.mat') != -1):\n",
    "                #print(j)\n",
    "                jnew = j.replace('-','_')\n",
    "                print(jnew)\n",
    "                os.rename(os.path.join(antdir,j),os.path.join(antdir,jnew))\n",
    "                print(os.path.join(antdir,j),os.path.join(antdir,jnew))\n",
    "            else:\n",
    "                pass"
   ]
  },
  {
   "cell_type": "markdown",
   "id": "fe28fe80",
   "metadata": {},
   "source": [
    "*file rename --> func*"
   ]
  },
  {
   "cell_type": "markdown",
   "id": "bdb3bd3c",
   "metadata": {},
   "source": [
    "for i in osl:\n",
    "    if i.find('ipynb') != -1:\n",
    "        pass\n",
    "    else:\n",
    "        antdir = os.path.join(str(os.getcwd()),i,'ses_01','anat')\n",
    "        funcdir = os.path.join(str(os.getcwd()),i,'ses_01','func')\n",
    "        #print(os.listdir(antdir))\n",
    "        #print(os.listdir(funcdir))\n",
    "        for j in os.listdir(funcdir):\n",
    "            if (j.split('_')[0] == i) & (j.find('_task-rest_run-01_bold.nii') != -1):\n",
    "                #print(j)\n",
    "                jnew = j.replace('-','_')\n",
    "                print(jnew)\n",
    "                os.rename(os.path.join(funcdir,j),os.path.join(funcdir,jnew))\n",
    "                print(os.path.join(funcdir,j),os.path.join(funcdir,jnew))\n",
    "            else:\n",
    "                pass"
   ]
  },
  {
   "cell_type": "markdown",
   "id": "28c3c2dc",
   "metadata": {},
   "source": [
    "*delete everything else --> anat*"
   ]
  },
  {
   "cell_type": "markdown",
   "id": "5a09f951",
   "metadata": {},
   "source": [
    "    for i in osl:\n",
    "        if i.find('ipynb') != -1:\n",
    "            pass\n",
    "        else:\n",
    "            antdir = os.path.join(str(os.getcwd()),i,'ses_01','anat')\n",
    "            funcdir = os.path.join(str(os.getcwd()),i,'ses_01','func')\n",
    "        #print(os.listdir(antdir))\n",
    "        #print(os.listdir(funcdir))\n",
    "            for j in os.listdir(antdir):\n",
    "                if j.find('-') != -1:\n",
    "                    rempath = antdir + '\\\\' + j\n",
    "                    print(rempath)\n",
    "                    os.remove(rempath)\n",
    "                    \n"
   ]
  },
  {
   "cell_type": "markdown",
   "id": "0cb047db",
   "metadata": {},
   "source": [
    "*delete everything func*"
   ]
  },
  {
   "cell_type": "markdown",
   "id": "e0149378",
   "metadata": {},
   "source": [
    "for i in osl:\n",
    "        if i.find('ipynb') != -1:\n",
    "            pass\n",
    "        else:\n",
    "            antdir = os.path.join(str(os.getcwd()),i,'ses_01','anat')\n",
    "            funcdir = os.path.join(str(os.getcwd()),i,'ses_01','func')\n",
    "        #print(os.listdir(antdir))\n",
    "        #print(os.listdir(funcdir))\n",
    "            for j in os.listdir(funcdir):\n",
    "                if j.find('-') != -1:\n",
    "                    rempath = funcdir + '\\\\' + j\n",
    "                    print(rempath)\n",
    "                    os.remove(rempath)"
   ]
  },
  {
   "cell_type": "code",
   "execution_count": null,
   "id": "4417d37d",
   "metadata": {},
   "outputs": [],
   "source": []
  }
 ],
 "metadata": {
  "kernelspec": {
   "display_name": "Python 3 (ipykernel)",
   "language": "python",
   "name": "python3"
  },
  "language_info": {
   "codemirror_mode": {
    "name": "ipython",
    "version": 3
   },
   "file_extension": ".py",
   "mimetype": "text/x-python",
   "name": "python",
   "nbconvert_exporter": "python",
   "pygments_lexer": "ipython3",
   "version": "3.10.2"
  }
 },
 "nbformat": 4,
 "nbformat_minor": 5
}
